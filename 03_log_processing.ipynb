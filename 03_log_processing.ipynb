{
 "cells": [
  {
   "cell_type": "code",
   "execution_count": 0,
   "metadata": {
    "application/vnd.databricks.v1+cell": {
     "cellMetadata": {},
     "inputWidgets": {},
     "nuid": "e4900e01-ca93-4eb8-bd90-4d7e0b61df81",
     "showTitle": false,
     "title": ""
    }
   },
   "outputs": [],
   "source": [
    "############\n",
    "# Answer to question \n",
    "# logs\n",
    "#-------------\n",
    "#Author: AdrianJ\n",
    "#V1.0 Created(2023-09-01)\n",
    "############"
   ]
  },
  {
   "cell_type": "code",
   "execution_count": 0,
   "metadata": {
    "application/vnd.databricks.v1+cell": {
     "cellMetadata": {
      "byteLimit": 2048000,
      "rowLimit": 10000
     },
     "inputWidgets": {},
     "nuid": "0598de3b-b02a-4685-8f59-c6753694f151",
     "showTitle": false,
     "title": ""
    }
   },
   "outputs": [],
   "source": [
    "import re\n",
    "from datetime import datetime\n",
    "from pyspark.sql import functions as F"
   ]
  },
  {
   "cell_type": "markdown",
   "metadata": {
    "application/vnd.databricks.v1+cell": {
     "cellMetadata": {
      "byteLimit": 2048000,
      "rowLimit": 10000
     },
     "inputWidgets": {},
     "nuid": "8d845ba3-5f27-4ff6-89b4-3a5ef36a7b44",
     "showTitle": false,
     "title": ""
    }
   },
   "source": [
    "### Log Processing\n",
    "\n",
    "The following data comes from the _Learning Spark_ book."
   ]
  },
  {
   "cell_type": "markdown",
   "metadata": {
    "application/vnd.databricks.v1+cell": {
     "cellMetadata": {
      "byteLimit": 2048000,
      "rowLimit": 10000
     },
     "inputWidgets": {},
     "nuid": "20032c60-1639-4ae4-9139-86c3015f6a94",
     "showTitle": false,
     "title": ""
    }
   },
   "source": [
    "#### **Question #1**: Parsing Logs\n",
    "Parse the logs into a DataFrame/Spark SQL table that can be queried. This should be done using the Dataset API."
   ]
  },
  {
   "cell_type": "code",
   "execution_count": 0,
   "metadata": {
    "application/vnd.databricks.v1+cell": {
     "cellMetadata": {
      "byteLimit": 2048000,
      "rowLimit": 10000
     },
     "inputWidgets": {},
     "nuid": "b54a5971-0588-4d26-8c00-fa06486faf80",
     "showTitle": false,
     "title": ""
    }
   },
   "outputs": [],
   "source": [
    "#Create regex patterns to extract and parse the logs\n",
    "host_reg = r'(^\\S+\\.[\\S+\\.]+\\S+)\\s'\n",
    "ts_rg = r'\\d{2}/[A-Za-z]{3}/\\d{4}:\\d{2}:\\d{2}:\\d{2} \\+\\d{4}'\n",
    "uri_rg = r'\\\"(\\S+)\\s(\\S+)\\s*(\\S*)\\\"'\n",
    "status_rg = r'\\s(\\d{3})\\s'"
   ]
  },
  {
   "cell_type": "code",
   "execution_count": 0,
   "metadata": {
    "application/vnd.databricks.v1+cell": {
     "cellMetadata": {
      "byteLimit": 2048000,
      "rowLimit": 10000
     },
     "inputWidgets": {},
     "nuid": "11b06351-d7e4-4235-8918-bfc9071cb73a",
     "showTitle": false,
     "title": ""
    }
   },
   "outputs": [
    {
     "output_type": "stream",
     "name": "stdout",
     "output_type": "stream",
     "text": [
      "INFO: Logs parsed\n First 3 rows from logs\n+-------------+--------------------+------+--------------+--------+------+\n|         host|           timestamp|method|      endpoint|protocol|status|\n+-------------+--------------------+------+--------------+--------+------+\n| 66.249.69.97|24/Sep/2014:22:25...|   GET|/071300/242153|HTTP/1.1|   404|\n|71.19.157.174|24/Sep/2014:22:26...|   GET|        /error|HTTP/1.1|   404|\n|71.19.157.174|24/Sep/2014:22:26...|   GET|  /favicon.ico|HTTP/1.1|   200|\n+-------------+--------------------+------+--------------+--------+------+\nonly showing top 3 rows\n\n"
     ]
    }
   ],
   "source": [
    "#read the logs as text file\n",
    "df_logs = spark.read.text(\"/databricks-datasets/learning-spark/data-001/fake_logs/*.log\")\n",
    "\n",
    "#Extract the logs information \n",
    "#NB! due to limited time for the assignment only extracting partial logs\n",
    "\n",
    "df_logs = (\n",
    "    df_logs\n",
    "    .select(\n",
    "        F.regexp_extract('value', host_reg, 1).alias('host'),\n",
    "        F.regexp_extract('value', ts_rg, 0).alias('timestamp'),\n",
    "        F.regexp_extract('value', uri_rg, 1).alias('method'),\n",
    "        F.regexp_extract('value', uri_rg, 2).alias('endpoint'),\n",
    "        F.regexp_extract('value', uri_rg, 3).alias('protocol'),\n",
    "        F.regexp_extract('value', status_rg, 1).cast('integer').alias('status')\n",
    "    )\n",
    ")\n",
    "\n",
    "print(\"INFO: Logs parsed\")\n",
    "print(\" First 3 rows from logs\")\n",
    "df_logs.show(3)"
   ]
  },
  {
   "cell_type": "markdown",
   "metadata": {
    "application/vnd.databricks.v1+cell": {
     "cellMetadata": {
      "byteLimit": 2048000,
      "rowLimit": 10000
     },
     "inputWidgets": {},
     "nuid": "5c71e6a3-7474-4444-a048-dd70145a95e8",
     "showTitle": false,
     "title": ""
    }
   },
   "source": [
    "#### **Question #2**: Analysis\n",
    "Generate some insights from the log data."
   ]
  },
  {
   "cell_type": "code",
   "execution_count": 0,
   "metadata": {
    "application/vnd.databricks.v1+cell": {
     "cellMetadata": {
      "byteLimit": 2048000,
      "rowLimit": 10000
     },
     "inputWidgets": {},
     "nuid": "d79092d2-7289-47a3-80f9-949f0e9d6f38",
     "showTitle": false,
     "title": ""
    }
   },
   "outputs": [
    {
     "output_type": "stream",
     "name": "stdout",
     "output_type": "stream",
     "text": [
      "Between 24/Sep/2014:22:25:44 +0000 and 24/Sep/2014:22:26:37 +0000 there was a total of 3 request errors\n"
     ]
    }
   ],
   "source": [
    "max_ts = df_logs.select(F.max(\"timestamp\")).collect()[0][0]\n",
    "min_ts = df_logs.select(F.min(\"timestamp\")).collect()[0][0]\n",
    "total_of_404 = df_logs.where(F.col(\"status\")==\"404\").count()\n",
    "print(f\"Between {min_ts} and {max_ts} there was a total of {total_of_404} request errors\")"
   ]
  }
 ],
 "metadata": {
  "application/vnd.databricks.v1+notebook": {
   "dashboards": [],
   "language": "python",
   "notebookMetadata": {
    "pythonIndentUnit": 4
   },
   "notebookName": "03_log_processing",
   "widgets": {}
  }
 },
 "nbformat": 4,
 "nbformat_minor": 0
}
