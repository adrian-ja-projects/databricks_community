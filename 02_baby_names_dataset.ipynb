{
 "cells": [
  {
   "cell_type": "code",
   "execution_count": 0,
   "metadata": {
    "application/vnd.databricks.v1+cell": {
     "cellMetadata": {},
     "inputWidgets": {},
     "nuid": "d52a00a5-5acd-4dc3-81f2-d12cbfccd6b3",
     "showTitle": false,
     "title": ""
    }
   },
   "outputs": [],
   "source": [
    "############\n",
    "# Answer to question \n",
    "# for the Baby_Names_Dataset\n",
    "#-------------\n",
    "#Author: AdrianJ\n",
    "#V1.0 Created(2023-09-01)\n",
    "############"
   ]
  },
  {
   "cell_type": "code",
   "execution_count": 0,
   "metadata": {
    "application/vnd.databricks.v1+cell": {
     "cellMetadata": {
      "byteLimit": 2048000,
      "rowLimit": 10000
     },
     "inputWidgets": {},
     "nuid": "e9b15487-c1d6-461e-b024-c9e2ca242822",
     "showTitle": false,
     "title": ""
    }
   },
   "outputs": [],
   "source": [
    "import pandas as pd\n",
    "import matplotlib.pyplot as plt\n",
    "\n",
    "from pyspark.sql import functions as F\n",
    "from pyspark.sql import Window"
   ]
  },
  {
   "cell_type": "code",
   "execution_count": 0,
   "metadata": {
    "application/vnd.databricks.v1+cell": {
     "cellMetadata": {
      "byteLimit": 2048000,
      "rowLimit": 10000
     },
     "inputWidgets": {},
     "nuid": "8f4d6a57-581b-41f5-aef1-986125c77053",
     "showTitle": false,
     "title": ""
    }
   },
   "outputs": [
    {
     "output_type": "display_data",
     "data": {
      "text/html": [
       "<style scoped>\n",
       "  .ansiout {\n",
       "    display: block;\n",
       "    unicode-bidi: embed;\n",
       "    white-space: pre-wrap;\n",
       "    word-wrap: break-word;\n",
       "    word-break: break-all;\n",
       "    font-family: \"Source Code Pro\", \"Menlo\", monospace;;\n",
       "    font-size: 13px;\n",
       "    color: #555;\n",
       "    margin-left: 4px;\n",
       "    line-height: 19px;\n",
       "  }\n",
       "</style>\n",
       "<div class=\"ansiout\">import java.net.URL\n",
       "import java.io.File\n",
       "import org.apache.commons.io.FileUtils\n",
       "tmpFile: java.io.File = /tmp/rows.json\n",
       "res4: Boolean = true\n",
       "</div>"
      ]
     },
     "metadata": {
      "application/vnd.databricks.v1+output": {
       "addedWidgets": {},
       "arguments": {},
       "data": "<div class=\"ansiout\">import java.net.URL\nimport java.io.File\nimport org.apache.commons.io.FileUtils\ntmpFile: java.io.File = /tmp/rows.json\nres4: Boolean = true\n</div>",
       "datasetInfos": [],
       "metadata": {
        "isDbfsCommandResult": false
       },
       "removedWidgets": [],
       "type": "html"
      }
     },
     "output_type": "display_data"
    }
   ],
   "source": [
    "%scala\n",
    "// environment prep\n",
    "import java.net.URL\n",
    "import java.io.File\n",
    "import org.apache.commons.io.FileUtils\n",
    "\n",
    "dbutils.fs.rm(\"dbfs:/tmp/rows.json\")\n",
    "\n",
    "val tmpFile = new File(\"/tmp/rows.json\")\n",
    "FileUtils.copyURLToFile(new URL(\"https://health.data.ny.gov/api/views/jxy9-yhdk/rows.json?accessType=DOWNLOAD\"), tmpFile)\n",
    "\n",
    "dbutils.fs.mv(\"file:/tmp/rows.json\", \"dbfs:/tmp/rows.json\")\n",
    "//dbutils.fs.head(\"dbfs:/tmp/rows.json\")"
   ]
  },
  {
   "cell_type": "markdown",
   "metadata": {
    "application/vnd.databricks.v1+cell": {
     "cellMetadata": {
      "byteLimit": 2048000,
      "rowLimit": 10000
     },
     "inputWidgets": {},
     "nuid": "b058e68e-6d56-4901-bc4c-a48d905a3afa",
     "showTitle": false,
     "title": ""
    }
   },
   "source": [
    "#### **Question #1**: Spark SQL's Native JSON Support\n",
    "Use Spark SQL's native JSON support to create a temp table you can use to query the data (you'll use the `registerTempTable` operation). Show a simple sample query."
   ]
  },
  {
   "cell_type": "code",
   "execution_count": 0,
   "metadata": {
    "application/vnd.databricks.v1+cell": {
     "cellMetadata": {
      "byteLimit": 2048000,
      "rowLimit": 10000
     },
     "inputWidgets": {},
     "nuid": "a04247ff-f2dc-4d74-b9c8-38121d7a95d3",
     "showTitle": false,
     "title": ""
    }
   },
   "outputs": [
    {
     "output_type": "stream",
     "name": "stdout",
     "output_type": "stream",
     "text": [
      "INFO: Showing simple query\n+------------------+--------------------+--------+-----------+-----------+-------------+----+---------+---+\n|            row_id|                  id|position|create_date|update_date|year_of_birth|name|last_name|sex|\n+------------------+--------------------+--------+-----------+-----------+-------------+----+---------+---+\n|row-emfw_sfk5_5wtx|00000000-0000-000...|       0| 1682529128| 1682529128|         2007|ZOEY|    KINGS|  F|\n|row-nnzi~h48n.2mpf|00000000-0000-000...|       0| 1682529128| 1682529128|         2007|ZOEY|  SUFFOLK|  F|\n|row-8jmi-hg3w_uppp|00000000-0000-000...|       0| 1682529128| 1682529128|         2007|ZOEY|   MONROE|  F|\n|row-bp7y-cty8-m6gp|00000000-0000-000...|       0| 1682529128| 1682529128|         2007|ZOEY|     ERIE|  F|\n|row-5rzw_wsef_u25q|00000000-0000-000...|       0| 1682529128| 1682529128|         2008|ZOEY|    KINGS|  F|\n+------------------+--------------------+--------+-----------+-----------+-------------+----+---------+---+\nonly showing top 5 rows\n\n"
     ]
    }
   ],
   "source": [
    "#read json file key data where rows are nested in a list\n",
    "temp_df = (\n",
    "    spark.read\n",
    "    .format(\"json\")\n",
    "    .option(\"multiline\", \"True\")\n",
    "    .load(\"dbfs:/tmp/rows.json\")\n",
    "    .select(F.explode(\"data\").alias(\"data\"))\n",
    ")\n",
    "\n",
    "#use spark sql to create columns out of the nested data\n",
    "temp_df = (\n",
    "    temp_df\n",
    "    .select(\n",
    "        F.col(\"data\")[0].alias(\"row_id\"),\n",
    "        F.col(\"data\")[1].alias(\"id\"),\n",
    "        F.col(\"data\")[2].alias(\"position\"),\n",
    "        F.col(\"data\")[3].alias(\"create_date\"),\n",
    "        F.col(\"data\")[5].alias(\"update_date\"),\n",
    "        F.col(\"data\")[8].alias(\"year_of_birth\"),\n",
    "        F.col(\"data\")[9].alias(\"name\"),\n",
    "        F.col(\"data\")[10].alias(\"last_name\"),\n",
    "        F.col(\"data\")[11].alias(\"sex\")\n",
    "    )\n",
    ")\n",
    "\n",
    "temp_df.createOrReplaceTempView(\"ny_baby_names\")\n",
    "\n",
    "#show a simple query\n",
    "print(\"INFO: Showing simple query\")\n",
    "spark.sql(f\"\"\"\n",
    "SELECT \n",
    "    row_id,\n",
    "    id,\n",
    "    position,\n",
    "    create_date,\n",
    "    update_date,\n",
    "    year_of_birth,\n",
    "    name,\n",
    "    last_name,\n",
    "    sex\n",
    "FROM ny_baby_names \n",
    "WHERE name = 'ZOEY'\n",
    "\"\"\").show(5)"
   ]
  },
  {
   "cell_type": "markdown",
   "metadata": {
    "application/vnd.databricks.v1+cell": {
     "cellMetadata": {
      "byteLimit": 2048000,
      "rowLimit": 10000
     },
     "inputWidgets": {},
     "nuid": "ca18356c-ae81-43ce-8e26-fbaa5c408603",
     "showTitle": false,
     "title": ""
    }
   },
   "source": [
    "#### **Question #2**: Working with Nested Data\n",
    "What does the nested schema of this dataset look like? How can you bring these nested fields up to the top level in a DataFrame?"
   ]
  },
  {
   "cell_type": "markdown",
   "metadata": {
    "application/vnd.databricks.v1+cell": {
     "cellMetadata": {
      "byteLimit": 2048000,
      "rowLimit": 10000
     },
     "inputWidgets": {},
     "nuid": "c322ec2c-0196-433f-ac94-0b68de381799",
     "showTitle": false,
     "title": ""
    }
   },
   "source": [
    "The schema of this json file contains two keys at the highest level. \n",
    "* The key 'meta' contained not only metadata of the file but also aggregations and description of the content. \n",
    "* The key 'data' contained the granular data of the file in a list format\n",
    "\n",
    "To bring this one to a top level dataframe I had to explode the data key to create rows with list of the content. Then parse the list refering to the index as the column\n",
    "\n",
    "NB! For simplicity of the exercise, I ignore a few values which where not clear. Required investigation and API material for fully understand and parse accordingly."
   ]
  },
  {
   "cell_type": "markdown",
   "metadata": {
    "application/vnd.databricks.v1+cell": {
     "cellMetadata": {
      "byteLimit": 2048000,
      "rowLimit": 10000
     },
     "inputWidgets": {},
     "nuid": "85d089f4-4a6c-4ca1-a6f6-c2e3a82284a4",
     "showTitle": false,
     "title": ""
    }
   },
   "source": [
    "#### **Question #3**: Analyzing the Data\n",
    "\n",
    "Using the tables you created, create a simple visualization that shows what is the most popular first letters baby names to start with each year."
   ]
  },
  {
   "cell_type": "code",
   "execution_count": 0,
   "metadata": {
    "application/vnd.databricks.v1+cell": {
     "cellMetadata": {
      "byteLimit": 2048000,
      "rowLimit": 10000
     },
     "inputWidgets": {},
     "nuid": "e4907ff4-a8dd-4da4-af7d-e2b1af330ccf",
     "showTitle": false,
     "title": ""
    }
   },
   "outputs": [
    {
     "output_type": "display_data",
     "data": {
      "image/png": "[encoded data removed]",
      "text/plain": [
       "<Figure size 640x480 with 1 Axes>"
      ]
     },
     "metadata": {},
     "output_type": "display_data"
    }
   ],
   "source": [
    "windowYearCount = (\n",
    "    Window\n",
    "    .partitionBy(\"year_of_birth\")\n",
    "    .orderBy(F.col(\"year_of_birth\").asc(), F.col(\"count\").desc())\n",
    ")\n",
    "#Aggregate to count first letter frequency per year\n",
    "most_common_letter = (\n",
    "    temp_df\n",
    "    .select(\n",
    "        F.substring(\"name\", 0, 1).alias(\"first_letter\"),\n",
    "        F.col(\"year_of_birth\"))\n",
    "    .groupBy(\n",
    "        \"first_letter\",\n",
    "        \"year_of_birth\")\n",
    "    .agg(\n",
    "        F.count(\"*\").alias(\"count\"))\n",
    ")\n",
    "\n",
    "#get the most frequent letter per year\n",
    "most_common_letter = (\n",
    "    most_common_letter\n",
    "    .withColumn(\"rank\", F.dense_rank().over(windowYearCount))\n",
    "    .where(F.col(\"rank\")==1)\n",
    ")\n",
    "\n",
    "#Select only relevant columns\n",
    "most_common_letter = (\n",
    "    most_common_letter\n",
    "    .select(\n",
    "        \"first_letter\", \n",
    "        \"year_of_birth\",\n",
    "        \"count\")\n",
    ")\n",
    "\n",
    "#convert to pandas to use matplot\n",
    "pd_most_common_letter = most_common_letter.toPandas()\n",
    "\n",
    "#Create simple bar chart\n",
    "pivot_data = pd_most_common_letter.pivot(index='year_of_birth', columns='first_letter', values='count')\n",
    "\n",
    "# Plot the bar chart\n",
    "pivot_data.plot(kind='bar', stacked=True)\n",
    "plt.xlabel('year_of_birth')\n",
    "plt.ylabel('count')\n",
    "plt.title('Baby Name Counts by Year and Letter')\n",
    "plt.legend(title='Letter')\n",
    "plt.show()"
   ]
  }
 ],
 "metadata": {
  "application/vnd.databricks.v1+notebook": {
   "dashboards": [],
   "language": "python",
   "notebookMetadata": {
    "pythonIndentUnit": 4
   },
   "notebookName": "02_baby_names_dataset",
   "widgets": {}
  }
 },
 "nbformat": 4,
 "nbformat_minor": 0
}
